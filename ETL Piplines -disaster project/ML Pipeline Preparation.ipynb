{
 "cells": [
  {
   "cell_type": "markdown",
   "metadata": {},
   "source": [
    "# ML Pipeline Preparation\n",
    "Follow the instructions below to help you create your ML pipeline.\n",
    "### 1. Import libraries and load data from database.\n",
    "- Import Python libraries\n",
    "- Load dataset from database with [`read_sql_table`](https://pandas.pydata.org/pandas-docs/stable/generated/pandas.read_sql_table.html)\n",
    "- Define feature and target variables X and Y"
   ]
  },
  {
   "cell_type": "code",
   "execution_count": 26,
   "metadata": {},
   "outputs": [
    {
     "name": "stdout",
     "output_type": "stream",
     "text": [
      "[nltk_data] Downloading package punkt to /Users/Tiger/nltk_data...\n",
      "[nltk_data]   Package punkt is already up-to-date!\n",
      "[nltk_data] Downloading package stopwords to /Users/Tiger/nltk_data...\n",
      "[nltk_data]   Package stopwords is already up-to-date!\n",
      "[nltk_data] Downloading package wordnet to /Users/Tiger/nltk_data...\n",
      "[nltk_data]   Package wordnet is already up-to-date!\n"
     ]
    }
   ],
   "source": [
    "# import libraries\n",
    "\n",
    "import pandas as pd \n",
    "import numpy as np\n",
    "from sqlalchemy import create_engine\n",
    "import re\n",
    "import pickle\n",
    "import nltk\n",
    "from sklearn.pipeline import Pipeline\n",
    "\n",
    "import re\n",
    "import nltk\n",
    "from nltk.corpus import stopwords\n",
    "from nltk.stem.wordnet import WordNetLemmatizer\n",
    "from nltk.tokenize import word_tokenize\n",
    "from nltk.stem.porter import PorterStemmer\n",
    "nltk.download('punkt')\n",
    "nltk.download('stopwords')\n",
    "nltk.download('wordnet')\n",
    "\n",
    "from sklearn.feature_extraction.text import CountVectorizer, TfidfTransformer\n",
    "from sklearn.model_selection import train_test_split, GridSearchCV\n",
    "from sklearn.ensemble import RandomForestClassifier\n",
    "from sklearn.multioutput import MultiOutputClassifier\n",
    "from sklearn.ensemble import AdaBoostClassifier\n",
    "from sklearn.tree import DecisionTreeClassifier\n",
    "\n",
    "from sklearn.metrics import accuracy_score, precision_score, recall_score, f1_score, make_scorer\n",
    "from sklearn.model_selection import GridSearchCV\n",
    "from sklearn.svm import SVC"
   ]
  },
  {
   "cell_type": "code",
   "execution_count": 2,
   "metadata": {},
   "outputs": [],
   "source": [
    "# load data from database\n",
    "engine = create_engine('sqlite:///InsertDatabaseName.db')\n",
    "df = pd.read_sql_table('InsertTableName', con=engine)\n",
    "categories = df.columns[4:]\n",
    "\n",
    "X = df[['message']].values[:, 0]\n",
    "y = df[categories].values"
   ]
  },
  {
   "cell_type": "code",
   "execution_count": 3,
   "metadata": {},
   "outputs": [
    {
     "data": {
      "text/html": [
       "<div>\n",
       "<style scoped>\n",
       "    .dataframe tbody tr th:only-of-type {\n",
       "        vertical-align: middle;\n",
       "    }\n",
       "\n",
       "    .dataframe tbody tr th {\n",
       "        vertical-align: top;\n",
       "    }\n",
       "\n",
       "    .dataframe thead th {\n",
       "        text-align: right;\n",
       "    }\n",
       "</style>\n",
       "<table border=\"1\" class=\"dataframe\">\n",
       "  <thead>\n",
       "    <tr style=\"text-align: right;\">\n",
       "      <th></th>\n",
       "      <th>id</th>\n",
       "      <th>message</th>\n",
       "      <th>original</th>\n",
       "      <th>genre</th>\n",
       "      <th>related</th>\n",
       "      <th>request</th>\n",
       "      <th>offer</th>\n",
       "      <th>aid_related</th>\n",
       "      <th>medical_help</th>\n",
       "      <th>medical_products</th>\n",
       "      <th>...</th>\n",
       "      <th>aid_centers</th>\n",
       "      <th>other_infrastructure</th>\n",
       "      <th>weather_related</th>\n",
       "      <th>floods</th>\n",
       "      <th>storm</th>\n",
       "      <th>fire</th>\n",
       "      <th>earthquake</th>\n",
       "      <th>cold</th>\n",
       "      <th>other_weather</th>\n",
       "      <th>direct_report</th>\n",
       "    </tr>\n",
       "  </thead>\n",
       "  <tbody>\n",
       "    <tr>\n",
       "      <th>0</th>\n",
       "      <td>2</td>\n",
       "      <td>Weather update - a cold front from Cuba that c...</td>\n",
       "      <td>Un front froid se retrouve sur Cuba ce matin. ...</td>\n",
       "      <td>direct</td>\n",
       "      <td>1</td>\n",
       "      <td>0</td>\n",
       "      <td>0</td>\n",
       "      <td>0</td>\n",
       "      <td>0</td>\n",
       "      <td>0</td>\n",
       "      <td>...</td>\n",
       "      <td>0</td>\n",
       "      <td>0</td>\n",
       "      <td>0</td>\n",
       "      <td>0</td>\n",
       "      <td>0</td>\n",
       "      <td>0</td>\n",
       "      <td>0</td>\n",
       "      <td>0</td>\n",
       "      <td>0</td>\n",
       "      <td>0</td>\n",
       "    </tr>\n",
       "    <tr>\n",
       "      <th>1</th>\n",
       "      <td>7</td>\n",
       "      <td>Is the Hurricane over or is it not over</td>\n",
       "      <td>Cyclone nan fini osinon li pa fini</td>\n",
       "      <td>direct</td>\n",
       "      <td>1</td>\n",
       "      <td>0</td>\n",
       "      <td>0</td>\n",
       "      <td>1</td>\n",
       "      <td>0</td>\n",
       "      <td>0</td>\n",
       "      <td>...</td>\n",
       "      <td>0</td>\n",
       "      <td>0</td>\n",
       "      <td>1</td>\n",
       "      <td>0</td>\n",
       "      <td>1</td>\n",
       "      <td>0</td>\n",
       "      <td>0</td>\n",
       "      <td>0</td>\n",
       "      <td>0</td>\n",
       "      <td>0</td>\n",
       "    </tr>\n",
       "    <tr>\n",
       "      <th>2</th>\n",
       "      <td>8</td>\n",
       "      <td>Looking for someone but no name</td>\n",
       "      <td>Patnm, di Maryani relem pou li banm nouvel li ...</td>\n",
       "      <td>direct</td>\n",
       "      <td>1</td>\n",
       "      <td>0</td>\n",
       "      <td>0</td>\n",
       "      <td>0</td>\n",
       "      <td>0</td>\n",
       "      <td>0</td>\n",
       "      <td>...</td>\n",
       "      <td>0</td>\n",
       "      <td>0</td>\n",
       "      <td>0</td>\n",
       "      <td>0</td>\n",
       "      <td>0</td>\n",
       "      <td>0</td>\n",
       "      <td>0</td>\n",
       "      <td>0</td>\n",
       "      <td>0</td>\n",
       "      <td>0</td>\n",
       "    </tr>\n",
       "    <tr>\n",
       "      <th>3</th>\n",
       "      <td>9</td>\n",
       "      <td>UN reports Leogane 80-90 destroyed. Only Hospi...</td>\n",
       "      <td>UN reports Leogane 80-90 destroyed. Only Hospi...</td>\n",
       "      <td>direct</td>\n",
       "      <td>1</td>\n",
       "      <td>1</td>\n",
       "      <td>0</td>\n",
       "      <td>1</td>\n",
       "      <td>0</td>\n",
       "      <td>1</td>\n",
       "      <td>...</td>\n",
       "      <td>0</td>\n",
       "      <td>0</td>\n",
       "      <td>0</td>\n",
       "      <td>0</td>\n",
       "      <td>0</td>\n",
       "      <td>0</td>\n",
       "      <td>0</td>\n",
       "      <td>0</td>\n",
       "      <td>0</td>\n",
       "      <td>0</td>\n",
       "    </tr>\n",
       "    <tr>\n",
       "      <th>4</th>\n",
       "      <td>12</td>\n",
       "      <td>says: west side of Haiti, rest of the country ...</td>\n",
       "      <td>facade ouest d Haiti et le reste du pays aujou...</td>\n",
       "      <td>direct</td>\n",
       "      <td>1</td>\n",
       "      <td>0</td>\n",
       "      <td>0</td>\n",
       "      <td>0</td>\n",
       "      <td>0</td>\n",
       "      <td>0</td>\n",
       "      <td>...</td>\n",
       "      <td>0</td>\n",
       "      <td>0</td>\n",
       "      <td>0</td>\n",
       "      <td>0</td>\n",
       "      <td>0</td>\n",
       "      <td>0</td>\n",
       "      <td>0</td>\n",
       "      <td>0</td>\n",
       "      <td>0</td>\n",
       "      <td>0</td>\n",
       "    </tr>\n",
       "  </tbody>\n",
       "</table>\n",
       "<p>5 rows × 40 columns</p>\n",
       "</div>"
      ],
      "text/plain": [
       "   id                                            message  \\\n",
       "0   2  Weather update - a cold front from Cuba that c...   \n",
       "1   7            Is the Hurricane over or is it not over   \n",
       "2   8                    Looking for someone but no name   \n",
       "3   9  UN reports Leogane 80-90 destroyed. Only Hospi...   \n",
       "4  12  says: west side of Haiti, rest of the country ...   \n",
       "\n",
       "                                            original   genre  related  \\\n",
       "0  Un front froid se retrouve sur Cuba ce matin. ...  direct        1   \n",
       "1                 Cyclone nan fini osinon li pa fini  direct        1   \n",
       "2  Patnm, di Maryani relem pou li banm nouvel li ...  direct        1   \n",
       "3  UN reports Leogane 80-90 destroyed. Only Hospi...  direct        1   \n",
       "4  facade ouest d Haiti et le reste du pays aujou...  direct        1   \n",
       "\n",
       "   request  offer  aid_related  medical_help  medical_products      ...        \\\n",
       "0        0      0            0             0                 0      ...         \n",
       "1        0      0            1             0                 0      ...         \n",
       "2        0      0            0             0                 0      ...         \n",
       "3        1      0            1             0                 1      ...         \n",
       "4        0      0            0             0                 0      ...         \n",
       "\n",
       "   aid_centers  other_infrastructure  weather_related  floods  storm  fire  \\\n",
       "0            0                     0                0       0      0     0   \n",
       "1            0                     0                1       0      1     0   \n",
       "2            0                     0                0       0      0     0   \n",
       "3            0                     0                0       0      0     0   \n",
       "4            0                     0                0       0      0     0   \n",
       "\n",
       "   earthquake  cold  other_weather  direct_report  \n",
       "0           0     0              0              0  \n",
       "1           0     0              0              0  \n",
       "2           0     0              0              0  \n",
       "3           0     0              0              0  \n",
       "4           0     0              0              0  \n",
       "\n",
       "[5 rows x 40 columns]"
      ]
     },
     "execution_count": 3,
     "metadata": {},
     "output_type": "execute_result"
    }
   ],
   "source": [
    "df.head()"
   ]
  },
  {
   "cell_type": "markdown",
   "metadata": {},
   "source": [
    "### 2. Write a tokenization function to process your text data"
   ]
  },
  {
   "cell_type": "code",
   "execution_count": 7,
   "metadata": {},
   "outputs": [],
   "source": [
    "def tokenize(text):\n",
    "    #Case Normalization & remove punctuation \n",
    "    text = re.sub(r\"[^a-zA-Z0-9]\", \" \", text.lower()) \n",
    "    \n",
    "    #tokenization methods \n",
    "    \n",
    "    words = word_tokenize(text)\n",
    "    \n",
    "    \n",
    "    \n",
    "    words = [w for w in words if w not in stopwords.words(\"english\")]\n",
    "\n",
    "    \n",
    "    return words  "
   ]
  },
  {
   "cell_type": "markdown",
   "metadata": {},
   "source": [
    "### 3. Build a machine learning pipeline\n",
    "This machine pipeline should take in the `message` column as input and output classification results on the other 36 categories in the dataset. You may find the [MultiOutputClassifier](http://scikit-learn.org/stable/modules/generated/sklearn.multioutput.MultiOutputClassifier.html) helpful for predicting multiple target variables."
   ]
  },
  {
   "cell_type": "code",
   "execution_count": 8,
   "metadata": {},
   "outputs": [],
   "source": [
    "pipeline = Pipeline([\n",
    "    ('vect', CountVectorizer(tokenizer = tokenize)),\n",
    "    ('tfidf', TfidfTransformer()),\n",
    "    ('clf', MultiOutputClassifier(RandomForestClassifier()))\n",
    "])"
   ]
  },
  {
   "cell_type": "markdown",
   "metadata": {},
   "source": [
    "### 4. Train pipeline\n",
    "- Split data into train and test sets\n",
    "- Train pipeline"
   ]
  },
  {
   "cell_type": "code",
   "execution_count": 9,
   "metadata": {},
   "outputs": [
    {
     "data": {
      "text/plain": [
       "Pipeline(memory=None,\n",
       "     steps=[('vect', CountVectorizer(analyzer='word', binary=False, decode_error='strict',\n",
       "        dtype=<class 'numpy.int64'>, encoding='utf-8', input='content',\n",
       "        lowercase=True, max_df=1.0, max_features=None, min_df=1,\n",
       "        ngram_range=(1, 1), preprocessor=None, stop_words=None,\n",
       "        strip...oob_score=False, random_state=None, verbose=0,\n",
       "            warm_start=False),\n",
       "           n_jobs=1))])"
      ]
     },
     "execution_count": 9,
     "metadata": {},
     "output_type": "execute_result"
    }
   ],
   "source": [
    "X_train,X_test,y_train,y_test=train_test_split(X,y,test_size=0.25, random_state=35)\n",
    "pipeline.fit(X_train,y_train)"
   ]
  },
  {
   "cell_type": "markdown",
   "metadata": {},
   "source": [
    "### 5. Test your model\n",
    "Report the f1 score, precision and recall for each output category of the dataset. You can do this by iterating through the columns and calling sklearn's `classification_report` on each."
   ]
  },
  {
   "cell_type": "code",
   "execution_count": 10,
   "metadata": {},
   "outputs": [],
   "source": [
    "def Classification_report(actual, prediction,columns):\n",
    "    for i in range(0, len(columns)):\n",
    "        print(columns[i])\n",
    "        print(\" F1_score: {:.4f} % Accuracy: {:.4f}  % Precision: {:.4f} % Recall: {:.4f} \".format(\n",
    "            f1_score(actual[:, i], prediction[:, i], average='weighted'),\n",
    "            accuracy_score(actual[:, i], prediction[:, i]),\n",
    "            precision_score(actual[:, i], prediction[:, i], average='weighted'),\n",
    "            recall_score(actual[:, i], prediction[:, i], average='weighted')\n",
    "        ))\n",
    "        \n"
   ]
  },
  {
   "cell_type": "code",
   "execution_count": 11,
   "metadata": {},
   "outputs": [],
   "source": [
    "prediction= pipeline.predict(X_train)"
   ]
  },
  {
   "cell_type": "code",
   "execution_count": 12,
   "metadata": {},
   "outputs": [
    {
     "name": "stdout",
     "output_type": "stream",
     "text": [
      "related\n",
      " F1_score: 0.9885 % Accuracy: 0.9886  % Precision: 0.9886 % Recall: 0.9886 \n",
      "request\n",
      " F1_score: 0.9858 % Accuracy: 0.9861  % Precision: 0.9862 % Recall: 0.9861 \n",
      "offer\n",
      " F1_score: 0.9981 % Accuracy: 0.9983  % Precision: 0.9983 % Recall: 0.9983 \n",
      "aid_related\n",
      " F1_score: 0.9853 % Accuracy: 0.9853  % Precision: 0.9855 % Recall: 0.9853 \n",
      "medical_help\n",
      " F1_score: 0.9880 % Accuracy: 0.9884  % Precision: 0.9885 % Recall: 0.9884 \n",
      "medical_products\n",
      " F1_score: 0.9916 % Accuracy: 0.9920  % Precision: 0.9920 % Recall: 0.9920 \n",
      "search_and_rescue\n",
      " F1_score: 0.9933 % Accuracy: 0.9937  % Precision: 0.9937 % Recall: 0.9937 \n",
      "security\n",
      " F1_score: 0.9942 % Accuracy: 0.9947  % Precision: 0.9947 % Recall: 0.9947 \n",
      "military\n",
      " F1_score: 0.9957 % Accuracy: 0.9958  % Precision: 0.9958 % Recall: 0.9958 \n",
      "child_alone\n",
      " F1_score: 1.0000 % Accuracy: 1.0000  % Precision: 1.0000 % Recall: 1.0000 \n",
      "water\n",
      " F1_score: 0.9950 % Accuracy: 0.9951  % Precision: 0.9951 % Recall: 0.9951 \n",
      "food\n",
      " F1_score: 0.9951 % Accuracy: 0.9951  % Precision: 0.9951 % Recall: 0.9951 \n",
      "shelter\n",
      " F1_score: 0.9922 % Accuracy: 0.9923  % Precision: 0.9924 % Recall: 0.9923 \n",
      "clothing\n",
      " F1_score: 0.9974 % Accuracy: 0.9975  % Precision: 0.9975 % Recall: 0.9975 \n",
      "money\n",
      " F1_score: 0.9944 % Accuracy: 0.9947  % Precision: 0.9947 % Recall: 0.9947 \n",
      "missing_people\n",
      " F1_score: 0.9968 % Accuracy: 0.9971  % Precision: 0.9971 % Recall: 0.9971 \n",
      "refugees\n",
      " F1_score: 0.9926 % Accuracy: 0.9930  % Precision: 0.9930 % Recall: 0.9930 \n",
      "death\n",
      " F1_score: 0.9932 % Accuracy: 0.9934  % Precision: 0.9934 % Recall: 0.9934 \n",
      "other_aid\n",
      " F1_score: 0.9771 % Accuracy: 0.9780  % Precision: 0.9785 % Recall: 0.9780 \n",
      "infrastructure_related\n",
      " F1_score: 0.9861 % Accuracy: 0.9868  % Precision: 0.9870 % Recall: 0.9868 \n",
      "transport\n",
      " F1_score: 0.9904 % Accuracy: 0.9909  % Precision: 0.9910 % Recall: 0.9909 \n",
      "buildings\n",
      " F1_score: 0.9930 % Accuracy: 0.9932  % Precision: 0.9932 % Recall: 0.9932 \n",
      "electricity\n",
      " F1_score: 0.9963 % Accuracy: 0.9964  % Precision: 0.9965 % Recall: 0.9964 \n",
      "tools\n",
      " F1_score: 0.9983 % Accuracy: 0.9984  % Precision: 0.9984 % Recall: 0.9984 \n",
      "hospitals\n",
      " F1_score: 0.9980 % Accuracy: 0.9981  % Precision: 0.9981 % Recall: 0.9981 \n",
      "shops\n",
      " F1_score: 0.9985 % Accuracy: 0.9986  % Precision: 0.9986 % Recall: 0.9986 \n",
      "aid_centers\n",
      " F1_score: 0.9963 % Accuracy: 0.9965  % Precision: 0.9966 % Recall: 0.9965 \n",
      "other_infrastructure\n",
      " F1_score: 0.9898 % Accuracy: 0.9904  % Precision: 0.9905 % Recall: 0.9904 \n",
      "weather_related\n",
      " F1_score: 0.9878 % Accuracy: 0.9878  % Precision: 0.9880 % Recall: 0.9878 \n",
      "floods\n",
      " F1_score: 0.9915 % Accuracy: 0.9917  % Precision: 0.9917 % Recall: 0.9917 \n",
      "storm\n",
      " F1_score: 0.9936 % Accuracy: 0.9937  % Precision: 0.9937 % Recall: 0.9937 \n",
      "fire\n",
      " F1_score: 0.9972 % Accuracy: 0.9974  % Precision: 0.9974 % Recall: 0.9974 \n",
      "earthquake\n",
      " F1_score: 0.9952 % Accuracy: 0.9952  % Precision: 0.9952 % Recall: 0.9952 \n",
      "cold\n",
      " F1_score: 0.9963 % Accuracy: 0.9965  % Precision: 0.9965 % Recall: 0.9965 \n",
      "other_weather\n",
      " F1_score: 0.9894 % Accuracy: 0.9899  % Precision: 0.9900 % Recall: 0.9899 \n",
      "direct_report\n",
      " F1_score: 0.9809 % Accuracy: 0.9812  % Precision: 0.9815 % Recall: 0.9812 \n"
     ]
    }
   ],
   "source": [
    "Classification_report(y_train, prediction,categories)"
   ]
  },
  {
   "cell_type": "code",
   "execution_count": 13,
   "metadata": {},
   "outputs": [],
   "source": [
    "y_prediction= pipeline.predict(X_test)"
   ]
  },
  {
   "cell_type": "code",
   "execution_count": 14,
   "metadata": {},
   "outputs": [
    {
     "name": "stdout",
     "output_type": "stream",
     "text": [
      "related\n",
      " F1_score: 0.7860 % Accuracy: 0.7923  % Precision: 0.7858 % Recall: 0.7923 \n",
      "request\n",
      " F1_score: 0.8801 % Accuracy: 0.8923  % Precision: 0.8859 % Recall: 0.8923 \n",
      "offer\n",
      " F1_score: 0.9941 % Accuracy: 0.9960  % Precision: 0.9921 % Recall: 0.9960 \n",
      "aid_related\n",
      " F1_score: 0.7494 % Accuracy: 0.7551  % Precision: 0.7554 % Recall: 0.7551 \n",
      "medical_help\n",
      " F1_score: 0.8937 % Accuracy: 0.9211  % Precision: 0.9007 % Recall: 0.9211 \n",
      "medical_products\n",
      " F1_score: 0.9322 % Accuracy: 0.9510  % Precision: 0.9371 % Recall: 0.9510 \n",
      "search_and_rescue\n",
      " F1_score: 0.9668 % Accuracy: 0.9759  % Precision: 0.9703 % Recall: 0.9759 \n",
      "security\n",
      " F1_score: 0.9757 % Accuracy: 0.9837  % Precision: 0.9679 % Recall: 0.9837 \n",
      "military\n",
      " F1_score: 0.9556 % Accuracy: 0.9677  % Precision: 0.9579 % Recall: 0.9677 \n",
      "child_alone\n",
      " F1_score: 1.0000 % Accuracy: 1.0000  % Precision: 1.0000 % Recall: 1.0000 \n",
      "water\n",
      " F1_score: 0.9493 % Accuracy: 0.9570  % Precision: 0.9540 % Recall: 0.9570 \n",
      "food\n",
      " F1_score: 0.9200 % Accuracy: 0.9286  % Precision: 0.9231 % Recall: 0.9286 \n",
      "shelter\n",
      " F1_score: 0.9195 % Accuracy: 0.9339  % Precision: 0.9260 % Recall: 0.9339 \n",
      "clothing\n",
      " F1_score: 0.9837 % Accuracy: 0.9881  % Precision: 0.9865 % Recall: 0.9881 \n",
      "money\n",
      " F1_score: 0.9657 % Accuracy: 0.9767  % Precision: 0.9714 % Recall: 0.9767 \n",
      "missing_people\n",
      " F1_score: 0.9836 % Accuracy: 0.9890  % Precision: 0.9781 % Recall: 0.9890 \n",
      "refugees\n",
      " F1_score: 0.9544 % Accuracy: 0.9677  % Precision: 0.9546 % Recall: 0.9677 \n",
      "death\n",
      " F1_score: 0.9513 % Accuracy: 0.9625  % Precision: 0.9573 % Recall: 0.9625 \n",
      "other_aid\n",
      " F1_score: 0.8207 % Accuracy: 0.8689  % Precision: 0.8253 % Recall: 0.8689 \n",
      "infrastructure_related\n",
      " F1_score: 0.9015 % Accuracy: 0.9323  % Precision: 0.8964 % Recall: 0.9323 \n",
      "transport\n",
      " F1_score: 0.9392 % Accuracy: 0.9556  % Precision: 0.9448 % Recall: 0.9556 \n",
      "buildings\n",
      " F1_score: 0.9416 % Accuracy: 0.9568  % Precision: 0.9471 % Recall: 0.9568 \n",
      "electricity\n",
      " F1_score: 0.9709 % Accuracy: 0.9803  % Precision: 0.9807 % Recall: 0.9803 \n",
      "tools\n",
      " F1_score: 0.9898 % Accuracy: 0.9930  % Precision: 0.9866 % Recall: 0.9930 \n",
      "hospitals\n",
      " F1_score: 0.9832 % Accuracy: 0.9887  % Precision: 0.9888 % Recall: 0.9887 \n",
      "shops\n",
      " F1_score: 0.9943 % Accuracy: 0.9962  % Precision: 0.9924 % Recall: 0.9962 \n",
      "aid_centers\n",
      " F1_score: 0.9830 % Accuracy: 0.9886  % Precision: 0.9775 % Recall: 0.9886 \n",
      "other_infrastructure\n",
      " F1_score: 0.9307 % Accuracy: 0.9524  % Precision: 0.9141 % Recall: 0.9524 \n",
      "weather_related\n",
      " F1_score: 0.8499 % Accuracy: 0.8578  % Precision: 0.8560 % Recall: 0.8578 \n",
      "floods\n",
      " F1_score: 0.9359 % Accuracy: 0.9454  % Precision: 0.9401 % Recall: 0.9454 \n",
      "storm\n"
     ]
    },
    {
     "name": "stderr",
     "output_type": "stream",
     "text": [
      "/anaconda3/lib/python3.6/site-packages/sklearn/metrics/classification.py:1135: UndefinedMetricWarning: F-score is ill-defined and being set to 0.0 in labels with no predicted samples.\n",
      "  'precision', 'predicted', average, warn_for)\n",
      "/anaconda3/lib/python3.6/site-packages/sklearn/metrics/classification.py:1135: UndefinedMetricWarning: Precision is ill-defined and being set to 0.0 in labels with no predicted samples.\n",
      "  'precision', 'predicted', average, warn_for)\n"
     ]
    },
    {
     "name": "stdout",
     "output_type": "stream",
     "text": [
      " F1_score: 0.9167 % Accuracy: 0.9284  % Precision: 0.9192 % Recall: 0.9284 \n",
      "fire\n",
      " F1_score: 0.9865 % Accuracy: 0.9907  % Precision: 0.9878 % Recall: 0.9907 \n",
      "earthquake\n",
      " F1_score: 0.9608 % Accuracy: 0.9625  % Precision: 0.9609 % Recall: 0.9625 \n",
      "cold\n",
      " F1_score: 0.9774 % Accuracy: 0.9835  % Precision: 0.9819 % Recall: 0.9835 \n",
      "other_weather\n",
      " F1_score: 0.9254 % Accuracy: 0.9474  % Precision: 0.9290 % Recall: 0.9474 \n",
      "direct_report\n",
      " F1_score: 0.8302 % Accuracy: 0.8538  % Precision: 0.8453 % Recall: 0.8538 \n"
     ]
    }
   ],
   "source": [
    "Classification_report(y_test, y_prediction,categories)"
   ]
  },
  {
   "cell_type": "markdown",
   "metadata": {},
   "source": [
    "### 6. Improve your model\n",
    "Use grid search to find better parameters. "
   ]
  },
  {
   "cell_type": "code",
   "execution_count": 17,
   "metadata": {},
   "outputs": [],
   "source": [
    "\n",
    "parameters = {\n",
    "           'vect__min_df': [1, 5],\n",
    "              'tfidf__use_idf':[True, False],\n",
    "              'clf__estimator__n_estimators':[10, 25], \n",
    "              'clf__estimator__min_samples_split':[2, 5, 10]}\n",
    "\n",
    "\n",
    "cv = GridSearchCV(estimator=pipeline, param_grid=parameters,  verbose=3)"
   ]
  },
  {
   "cell_type": "code",
   "execution_count": 18,
   "metadata": {},
   "outputs": [
    {
     "name": "stdout",
     "output_type": "stream",
     "text": [
      "Fitting 3 folds for each of 24 candidates, totalling 72 fits\n",
      "[CV] clf__estimator__min_samples_split=2, clf__estimator__n_estimators=10, tfidf__use_idf=True, vect__min_df=1 \n",
      "[CV]  clf__estimator__min_samples_split=2, clf__estimator__n_estimators=10, tfidf__use_idf=True, vect__min_df=1, score=0.23527616722612146, total= 1.8min\n",
      "[CV] clf__estimator__min_samples_split=2, clf__estimator__n_estimators=10, tfidf__use_idf=True, vect__min_df=1 \n"
     ]
    },
    {
     "name": "stderr",
     "output_type": "stream",
     "text": [
      "[Parallel(n_jobs=1)]: Done   1 out of   1 | elapsed:  2.7min remaining:    0.0s\n"
     ]
    },
    {
     "name": "stdout",
     "output_type": "stream",
     "text": [
      "[CV]  clf__estimator__min_samples_split=2, clf__estimator__n_estimators=10, tfidf__use_idf=True, vect__min_df=1, score=0.2210863594751297, total= 1.6min\n",
      "[CV] clf__estimator__min_samples_split=2, clf__estimator__n_estimators=10, tfidf__use_idf=True, vect__min_df=1 \n"
     ]
    },
    {
     "name": "stderr",
     "output_type": "stream",
     "text": [
      "[Parallel(n_jobs=1)]: Done   2 out of   2 | elapsed:  5.2min remaining:    0.0s\n"
     ]
    },
    {
     "name": "stdout",
     "output_type": "stream",
     "text": [
      "[CV]  clf__estimator__min_samples_split=2, clf__estimator__n_estimators=10, tfidf__use_idf=True, vect__min_df=1, score=0.24153188892279523, total= 1.7min\n",
      "[CV] clf__estimator__min_samples_split=2, clf__estimator__n_estimators=10, tfidf__use_idf=True, vect__min_df=5 \n",
      "[CV]  clf__estimator__min_samples_split=2, clf__estimator__n_estimators=10, tfidf__use_idf=True, vect__min_df=5, score=0.240311260299054, total= 1.8min\n",
      "[CV] clf__estimator__min_samples_split=2, clf__estimator__n_estimators=10, tfidf__use_idf=True, vect__min_df=5 \n",
      "[CV]  clf__estimator__min_samples_split=2, clf__estimator__n_estimators=10, tfidf__use_idf=True, vect__min_df=5, score=0.23481843149221848, total= 1.8min\n",
      "[CV] clf__estimator__min_samples_split=2, clf__estimator__n_estimators=10, tfidf__use_idf=True, vect__min_df=5 \n",
      "[CV]  clf__estimator__min_samples_split=2, clf__estimator__n_estimators=10, tfidf__use_idf=True, vect__min_df=5, score=0.24671956057369546, total= 1.7min\n",
      "[CV] clf__estimator__min_samples_split=2, clf__estimator__n_estimators=10, tfidf__use_idf=False, vect__min_df=1 \n",
      "[CV]  clf__estimator__min_samples_split=2, clf__estimator__n_estimators=10, tfidf__use_idf=False, vect__min_df=1, score=0.22947818126335062, total= 2.0min\n",
      "[CV] clf__estimator__min_samples_split=2, clf__estimator__n_estimators=10, tfidf__use_idf=False, vect__min_df=1 \n",
      "[CV]  clf__estimator__min_samples_split=2, clf__estimator__n_estimators=10, tfidf__use_idf=False, vect__min_df=1, score=0.22856270979554472, total= 1.7min\n",
      "[CV] clf__estimator__min_samples_split=2, clf__estimator__n_estimators=10, tfidf__use_idf=False, vect__min_df=1 \n",
      "[CV]  clf__estimator__min_samples_split=2, clf__estimator__n_estimators=10, tfidf__use_idf=False, vect__min_df=1, score=0.2416844675007629, total= 1.6min\n",
      "[CV] clf__estimator__min_samples_split=2, clf__estimator__n_estimators=10, tfidf__use_idf=False, vect__min_df=5 \n",
      "[CV]  clf__estimator__min_samples_split=2, clf__estimator__n_estimators=10, tfidf__use_idf=False, vect__min_df=5, score=0.2397009459871834, total= 1.5min\n",
      "[CV] clf__estimator__min_samples_split=2, clf__estimator__n_estimators=10, tfidf__use_idf=False, vect__min_df=5 \n",
      "[CV]  clf__estimator__min_samples_split=2, clf__estimator__n_estimators=10, tfidf__use_idf=False, vect__min_df=5, score=0.22902044552944767, total= 1.5min\n",
      "[CV] clf__estimator__min_samples_split=2, clf__estimator__n_estimators=10, tfidf__use_idf=False, vect__min_df=5 \n",
      "[CV]  clf__estimator__min_samples_split=2, clf__estimator__n_estimators=10, tfidf__use_idf=False, vect__min_df=5, score=0.2374122673176686, total= 1.5min\n",
      "[CV] clf__estimator__min_samples_split=2, clf__estimator__n_estimators=25, tfidf__use_idf=True, vect__min_df=1 \n",
      "[CV]  clf__estimator__min_samples_split=2, clf__estimator__n_estimators=25, tfidf__use_idf=True, vect__min_df=1, score=0.24183704607873055, total= 2.3min\n",
      "[CV] clf__estimator__min_samples_split=2, clf__estimator__n_estimators=25, tfidf__use_idf=True, vect__min_df=1 \n",
      "[CV]  clf__estimator__min_samples_split=2, clf__estimator__n_estimators=25, tfidf__use_idf=True, vect__min_df=1, score=0.23832773878547453, total= 2.2min\n",
      "[CV] clf__estimator__min_samples_split=2, clf__estimator__n_estimators=25, tfidf__use_idf=True, vect__min_df=1 \n",
      "[CV]  clf__estimator__min_samples_split=2, clf__estimator__n_estimators=25, tfidf__use_idf=True, vect__min_df=1, score=0.24351541043637473, total= 2.3min\n",
      "[CV] clf__estimator__min_samples_split=2, clf__estimator__n_estimators=25, tfidf__use_idf=True, vect__min_df=5 \n",
      "[CV]  clf__estimator__min_samples_split=2, clf__estimator__n_estimators=25, tfidf__use_idf=True, vect__min_df=5, score=0.24961855355508086, total= 1.9min\n",
      "[CV] clf__estimator__min_samples_split=2, clf__estimator__n_estimators=25, tfidf__use_idf=True, vect__min_df=5 \n",
      "[CV]  clf__estimator__min_samples_split=2, clf__estimator__n_estimators=25, tfidf__use_idf=True, vect__min_df=5, score=0.24687213915166312, total= 1.9min\n",
      "[CV] clf__estimator__min_samples_split=2, clf__estimator__n_estimators=25, tfidf__use_idf=True, vect__min_df=5 \n",
      "[CV]  clf__estimator__min_samples_split=2, clf__estimator__n_estimators=25, tfidf__use_idf=True, vect__min_df=5, score=0.25648458956362524, total= 1.9min\n",
      "[CV] clf__estimator__min_samples_split=2, clf__estimator__n_estimators=25, tfidf__use_idf=False, vect__min_df=1 \n",
      "[CV]  clf__estimator__min_samples_split=2, clf__estimator__n_estimators=25, tfidf__use_idf=False, vect__min_df=1, score=0.24687213915166312, total= 2.3min\n",
      "[CV] clf__estimator__min_samples_split=2, clf__estimator__n_estimators=25, tfidf__use_idf=False, vect__min_df=1 \n",
      "[CV]  clf__estimator__min_samples_split=2, clf__estimator__n_estimators=25, tfidf__use_idf=False, vect__min_df=1, score=0.23787000305157155, total= 2.2min\n",
      "[CV] clf__estimator__min_samples_split=2, clf__estimator__n_estimators=25, tfidf__use_idf=False, vect__min_df=1 \n",
      "[CV]  clf__estimator__min_samples_split=2, clf__estimator__n_estimators=25, tfidf__use_idf=False, vect__min_df=1, score=0.2502288678669515, total= 2.2min\n",
      "[CV] clf__estimator__min_samples_split=2, clf__estimator__n_estimators=25, tfidf__use_idf=False, vect__min_df=5 \n",
      "[CV]  clf__estimator__min_samples_split=2, clf__estimator__n_estimators=25, tfidf__use_idf=False, vect__min_df=5, score=0.2581629539212695, total= 1.9min\n",
      "[CV] clf__estimator__min_samples_split=2, clf__estimator__n_estimators=25, tfidf__use_idf=False, vect__min_df=5 \n",
      "[CV]  clf__estimator__min_samples_split=2, clf__estimator__n_estimators=25, tfidf__use_idf=False, vect__min_df=5, score=0.2505340250228868, total= 1.8min\n",
      "[CV] clf__estimator__min_samples_split=2, clf__estimator__n_estimators=25, tfidf__use_idf=False, vect__min_df=5 \n",
      "[CV]  clf__estimator__min_samples_split=2, clf__estimator__n_estimators=25, tfidf__use_idf=False, vect__min_df=5, score=0.2590784253890754, total= 1.9min\n",
      "[CV] clf__estimator__min_samples_split=5, clf__estimator__n_estimators=10, tfidf__use_idf=True, vect__min_df=1 \n",
      "[CV]  clf__estimator__min_samples_split=5, clf__estimator__n_estimators=10, tfidf__use_idf=True, vect__min_df=1, score=0.232834909978639, total= 1.5min\n",
      "[CV] clf__estimator__min_samples_split=5, clf__estimator__n_estimators=10, tfidf__use_idf=True, vect__min_df=1 \n",
      "[CV]  clf__estimator__min_samples_split=5, clf__estimator__n_estimators=10, tfidf__use_idf=True, vect__min_df=1, score=0.22352761672261215, total= 1.5min\n",
      "[CV] clf__estimator__min_samples_split=5, clf__estimator__n_estimators=10, tfidf__use_idf=True, vect__min_df=1 \n",
      "[CV]  clf__estimator__min_samples_split=5, clf__estimator__n_estimators=10, tfidf__use_idf=True, vect__min_df=1, score=0.23268233140067135, total= 1.5min\n",
      "[CV] clf__estimator__min_samples_split=5, clf__estimator__n_estimators=10, tfidf__use_idf=True, vect__min_df=5 \n",
      "[CV]  clf__estimator__min_samples_split=5, clf__estimator__n_estimators=10, tfidf__use_idf=True, vect__min_df=5, score=0.23436069575831553, total= 1.4min\n",
      "[CV] clf__estimator__min_samples_split=5, clf__estimator__n_estimators=10, tfidf__use_idf=True, vect__min_df=5 \n",
      "[CV]  clf__estimator__min_samples_split=5, clf__estimator__n_estimators=10, tfidf__use_idf=True, vect__min_df=5, score=0.2305462313091242, total= 1.4min\n",
      "[CV] clf__estimator__min_samples_split=5, clf__estimator__n_estimators=10, tfidf__use_idf=True, vect__min_df=5 \n",
      "[CV]  clf__estimator__min_samples_split=5, clf__estimator__n_estimators=10, tfidf__use_idf=True, vect__min_df=5, score=0.2451937747940189, total= 1.4min\n",
      "[CV] clf__estimator__min_samples_split=5, clf__estimator__n_estimators=10, tfidf__use_idf=False, vect__min_df=1 \n",
      "[CV]  clf__estimator__min_samples_split=5, clf__estimator__n_estimators=10, tfidf__use_idf=False, vect__min_df=1, score=0.22917302410741533, total= 1.5min\n",
      "[CV] clf__estimator__min_samples_split=5, clf__estimator__n_estimators=10, tfidf__use_idf=False, vect__min_df=1 \n",
      "[CV]  clf__estimator__min_samples_split=5, clf__estimator__n_estimators=10, tfidf__use_idf=False, vect__min_df=1, score=0.22520598108025633, total= 1.5min\n",
      "[CV] clf__estimator__min_samples_split=5, clf__estimator__n_estimators=10, tfidf__use_idf=False, vect__min_df=1 \n",
      "[CV]  clf__estimator__min_samples_split=5, clf__estimator__n_estimators=10, tfidf__use_idf=False, vect__min_df=1, score=0.22352761672261215, total= 1.5min\n",
      "[CV] clf__estimator__min_samples_split=5, clf__estimator__n_estimators=10, tfidf__use_idf=False, vect__min_df=5 \n"
     ]
    },
    {
     "name": "stdout",
     "output_type": "stream",
     "text": [
      "[CV]  clf__estimator__min_samples_split=5, clf__estimator__n_estimators=10, tfidf__use_idf=False, vect__min_df=5, score=0.23176685993286542, total= 1.4min\n",
      "[CV] clf__estimator__min_samples_split=5, clf__estimator__n_estimators=10, tfidf__use_idf=False, vect__min_df=5 \n",
      "[CV]  clf__estimator__min_samples_split=5, clf__estimator__n_estimators=10, tfidf__use_idf=False, vect__min_df=5, score=0.22856270979554472, total= 1.4min\n",
      "[CV] clf__estimator__min_samples_split=5, clf__estimator__n_estimators=10, tfidf__use_idf=False, vect__min_df=5 \n",
      "[CV]  clf__estimator__min_samples_split=5, clf__estimator__n_estimators=10, tfidf__use_idf=False, vect__min_df=5, score=0.24275251754653646, total= 1.4min\n",
      "[CV] clf__estimator__min_samples_split=5, clf__estimator__n_estimators=25, tfidf__use_idf=True, vect__min_df=1 \n",
      "[CV]  clf__estimator__min_samples_split=5, clf__estimator__n_estimators=25, tfidf__use_idf=True, vect__min_df=1, score=0.24305767470247178, total= 2.0min\n",
      "[CV] clf__estimator__min_samples_split=5, clf__estimator__n_estimators=25, tfidf__use_idf=True, vect__min_df=1 \n",
      "[CV]  clf__estimator__min_samples_split=5, clf__estimator__n_estimators=25, tfidf__use_idf=True, vect__min_df=1, score=0.23878547451937748, total= 2.0min\n",
      "[CV] clf__estimator__min_samples_split=5, clf__estimator__n_estimators=25, tfidf__use_idf=True, vect__min_df=1 \n",
      "[CV]  clf__estimator__min_samples_split=5, clf__estimator__n_estimators=25, tfidf__use_idf=True, vect__min_df=1, score=0.24992371071101618, total= 2.0min\n",
      "[CV] clf__estimator__min_samples_split=5, clf__estimator__n_estimators=25, tfidf__use_idf=True, vect__min_df=5 \n",
      "[CV]  clf__estimator__min_samples_split=5, clf__estimator__n_estimators=25, tfidf__use_idf=True, vect__min_df=5, score=0.2560268538297223, total= 1.8min\n",
      "[CV] clf__estimator__min_samples_split=5, clf__estimator__n_estimators=25, tfidf__use_idf=True, vect__min_df=5 \n",
      "[CV]  clf__estimator__min_samples_split=5, clf__estimator__n_estimators=25, tfidf__use_idf=True, vect__min_df=5, score=0.2534330180042722, total= 1.8min\n",
      "[CV] clf__estimator__min_samples_split=5, clf__estimator__n_estimators=25, tfidf__use_idf=True, vect__min_df=5 \n",
      "[CV]  clf__estimator__min_samples_split=5, clf__estimator__n_estimators=25, tfidf__use_idf=True, vect__min_df=5, score=0.2581629539212695, total= 1.8min\n",
      "[CV] clf__estimator__min_samples_split=5, clf__estimator__n_estimators=25, tfidf__use_idf=False, vect__min_df=1 \n",
      "[CV]  clf__estimator__min_samples_split=5, clf__estimator__n_estimators=25, tfidf__use_idf=False, vect__min_df=1, score=0.24214220323466584, total= 2.0min\n",
      "[CV] clf__estimator__min_samples_split=5, clf__estimator__n_estimators=25, tfidf__use_idf=False, vect__min_df=1 \n",
      "[CV]  clf__estimator__min_samples_split=5, clf__estimator__n_estimators=25, tfidf__use_idf=False, vect__min_df=1, score=0.23405553860238024, total= 2.0min\n",
      "[CV] clf__estimator__min_samples_split=5, clf__estimator__n_estimators=25, tfidf__use_idf=False, vect__min_df=1 \n",
      "[CV]  clf__estimator__min_samples_split=5, clf__estimator__n_estimators=25, tfidf__use_idf=False, vect__min_df=1, score=0.2456515105279219, total= 2.0min\n",
      "[CV] clf__estimator__min_samples_split=5, clf__estimator__n_estimators=25, tfidf__use_idf=False, vect__min_df=5 \n",
      "[CV]  clf__estimator__min_samples_split=5, clf__estimator__n_estimators=25, tfidf__use_idf=False, vect__min_df=5, score=0.25617943240769, total= 1.8min\n",
      "[CV] clf__estimator__min_samples_split=5, clf__estimator__n_estimators=25, tfidf__use_idf=False, vect__min_df=5 \n",
      "[CV]  clf__estimator__min_samples_split=5, clf__estimator__n_estimators=25, tfidf__use_idf=False, vect__min_df=5, score=0.2508391821788221, total= 1.8min\n",
      "[CV] clf__estimator__min_samples_split=5, clf__estimator__n_estimators=25, tfidf__use_idf=False, vect__min_df=5 \n",
      "[CV]  clf__estimator__min_samples_split=5, clf__estimator__n_estimators=25, tfidf__use_idf=False, vect__min_df=5, score=0.2639609398840403, total= 1.8min\n",
      "[CV] clf__estimator__min_samples_split=10, clf__estimator__n_estimators=10, tfidf__use_idf=True, vect__min_df=1 \n",
      "[CV]  clf__estimator__min_samples_split=10, clf__estimator__n_estimators=10, tfidf__use_idf=True, vect__min_df=1, score=0.22612145254806226, total= 1.5min\n",
      "[CV] clf__estimator__min_samples_split=10, clf__estimator__n_estimators=10, tfidf__use_idf=True, vect__min_df=1 \n",
      "[CV]  clf__estimator__min_samples_split=10, clf__estimator__n_estimators=10, tfidf__use_idf=True, vect__min_df=1, score=0.2220018309429356, total= 1.5min\n",
      "[CV] clf__estimator__min_samples_split=10, clf__estimator__n_estimators=10, tfidf__use_idf=True, vect__min_df=1 \n",
      "[CV]  clf__estimator__min_samples_split=10, clf__estimator__n_estimators=10, tfidf__use_idf=True, vect__min_df=1, score=0.23008849557522124, total= 1.5min\n",
      "[CV] clf__estimator__min_samples_split=10, clf__estimator__n_estimators=10, tfidf__use_idf=True, vect__min_df=5 \n",
      "[CV]  clf__estimator__min_samples_split=10, clf__estimator__n_estimators=10, tfidf__use_idf=True, vect__min_df=5, score=0.24321025328043944, total= 1.4min\n",
      "[CV] clf__estimator__min_samples_split=10, clf__estimator__n_estimators=10, tfidf__use_idf=True, vect__min_df=5 \n",
      "[CV]  clf__estimator__min_samples_split=10, clf__estimator__n_estimators=10, tfidf__use_idf=True, vect__min_df=5, score=0.23146170277693012, total= 1.4min\n",
      "[CV] clf__estimator__min_samples_split=10, clf__estimator__n_estimators=10, tfidf__use_idf=True, vect__min_df=5 \n",
      "[CV]  clf__estimator__min_samples_split=10, clf__estimator__n_estimators=10, tfidf__use_idf=True, vect__min_df=5, score=0.2485505035093073, total= 1.4min\n",
      "[CV] clf__estimator__min_samples_split=10, clf__estimator__n_estimators=10, tfidf__use_idf=False, vect__min_df=1 \n",
      "[CV]  clf__estimator__min_samples_split=10, clf__estimator__n_estimators=10, tfidf__use_idf=False, vect__min_df=1, score=0.21956057369545315, total= 1.5min\n",
      "[CV] clf__estimator__min_samples_split=10, clf__estimator__n_estimators=10, tfidf__use_idf=False, vect__min_df=1 \n",
      "[CV]  clf__estimator__min_samples_split=10, clf__estimator__n_estimators=10, tfidf__use_idf=False, vect__min_df=1, score=0.22154409520903265, total= 1.5min\n",
      "[CV] clf__estimator__min_samples_split=10, clf__estimator__n_estimators=10, tfidf__use_idf=False, vect__min_df=1 \n",
      "[CV]  clf__estimator__min_samples_split=10, clf__estimator__n_estimators=10, tfidf__use_idf=False, vect__min_df=1, score=0.22886786695148, total= 1.5min\n",
      "[CV] clf__estimator__min_samples_split=10, clf__estimator__n_estimators=10, tfidf__use_idf=False, vect__min_df=5 \n",
      "[CV]  clf__estimator__min_samples_split=10, clf__estimator__n_estimators=10, tfidf__use_idf=False, vect__min_df=5, score=0.23954836740921576, total= 1.4min\n",
      "[CV] clf__estimator__min_samples_split=10, clf__estimator__n_estimators=10, tfidf__use_idf=False, vect__min_df=5 \n",
      "[CV]  clf__estimator__min_samples_split=10, clf__estimator__n_estimators=10, tfidf__use_idf=False, vect__min_df=5, score=0.23848031736344216, total= 1.4min\n",
      "[CV] clf__estimator__min_samples_split=10, clf__estimator__n_estimators=10, tfidf__use_idf=False, vect__min_df=5 \n",
      "[CV]  clf__estimator__min_samples_split=10, clf__estimator__n_estimators=10, tfidf__use_idf=False, vect__min_df=5, score=0.2419896246566982, total= 1.4min\n",
      "[CV] clf__estimator__min_samples_split=10, clf__estimator__n_estimators=25, tfidf__use_idf=True, vect__min_df=1 \n",
      "[CV]  clf__estimator__min_samples_split=10, clf__estimator__n_estimators=25, tfidf__use_idf=True, vect__min_df=1, score=0.23619163869392737, total= 1.9min\n",
      "[CV] clf__estimator__min_samples_split=10, clf__estimator__n_estimators=25, tfidf__use_idf=True, vect__min_df=1 \n",
      "[CV]  clf__estimator__min_samples_split=10, clf__estimator__n_estimators=25, tfidf__use_idf=True, vect__min_df=1, score=0.23405553860238024, total= 1.9min\n",
      "[CV] clf__estimator__min_samples_split=10, clf__estimator__n_estimators=25, tfidf__use_idf=True, vect__min_df=1 \n",
      "[CV]  clf__estimator__min_samples_split=10, clf__estimator__n_estimators=25, tfidf__use_idf=True, vect__min_df=1, score=0.24794018919743668, total= 1.9min\n",
      "[CV] clf__estimator__min_samples_split=10, clf__estimator__n_estimators=25, tfidf__use_idf=True, vect__min_df=5 \n",
      "[CV]  clf__estimator__min_samples_split=10, clf__estimator__n_estimators=25, tfidf__use_idf=True, vect__min_df=5, score=0.26243515410436374, total= 1.7min\n",
      "[CV] clf__estimator__min_samples_split=10, clf__estimator__n_estimators=25, tfidf__use_idf=True, vect__min_df=5 \n"
     ]
    },
    {
     "name": "stdout",
     "output_type": "stream",
     "text": [
      "[CV]  clf__estimator__min_samples_split=10, clf__estimator__n_estimators=25, tfidf__use_idf=True, vect__min_df=5, score=0.24870308208727496, total= 1.7min\n",
      "[CV] clf__estimator__min_samples_split=10, clf__estimator__n_estimators=25, tfidf__use_idf=True, vect__min_df=5 \n",
      "[CV]  clf__estimator__min_samples_split=10, clf__estimator__n_estimators=25, tfidf__use_idf=True, vect__min_df=5, score=0.2534330180042722, total= 1.7min\n",
      "[CV] clf__estimator__min_samples_split=10, clf__estimator__n_estimators=25, tfidf__use_idf=False, vect__min_df=1 \n",
      "[CV]  clf__estimator__min_samples_split=10, clf__estimator__n_estimators=25, tfidf__use_idf=False, vect__min_df=1, score=0.24397314617027768, total= 1.9min\n",
      "[CV] clf__estimator__min_samples_split=10, clf__estimator__n_estimators=25, tfidf__use_idf=False, vect__min_df=1 \n",
      "[CV]  clf__estimator__min_samples_split=10, clf__estimator__n_estimators=25, tfidf__use_idf=False, vect__min_df=1, score=0.23664937442783032, total= 1.9min\n",
      "[CV] clf__estimator__min_samples_split=10, clf__estimator__n_estimators=25, tfidf__use_idf=False, vect__min_df=1 \n",
      "[CV]  clf__estimator__min_samples_split=10, clf__estimator__n_estimators=25, tfidf__use_idf=False, vect__min_df=1, score=0.2374122673176686, total= 1.9min\n",
      "[CV] clf__estimator__min_samples_split=10, clf__estimator__n_estimators=25, tfidf__use_idf=False, vect__min_df=5 \n",
      "[CV]  clf__estimator__min_samples_split=10, clf__estimator__n_estimators=25, tfidf__use_idf=False, vect__min_df=5, score=0.25968873970094597, total= 1.7min\n",
      "[CV] clf__estimator__min_samples_split=10, clf__estimator__n_estimators=25, tfidf__use_idf=False, vect__min_df=5 \n",
      "[CV]  clf__estimator__min_samples_split=10, clf__estimator__n_estimators=25, tfidf__use_idf=False, vect__min_df=5, score=0.25007628928898384, total= 1.7min\n",
      "[CV] clf__estimator__min_samples_split=10, clf__estimator__n_estimators=25, tfidf__use_idf=False, vect__min_df=5 \n",
      "[CV]  clf__estimator__min_samples_split=10, clf__estimator__n_estimators=25, tfidf__use_idf=False, vect__min_df=5, score=0.2599938968568813, total= 1.7min\n"
     ]
    },
    {
     "name": "stderr",
     "output_type": "stream",
     "text": [
      "[Parallel(n_jobs=1)]: Done  72 out of  72 | elapsed: 194.8min finished\n"
     ]
    },
    {
     "data": {
      "text/plain": [
       "GridSearchCV(cv=None, error_score='raise',\n",
       "       estimator=Pipeline(memory=None,\n",
       "     steps=[('vect', CountVectorizer(analyzer='word', binary=False, decode_error='strict',\n",
       "        dtype=<class 'numpy.int64'>, encoding='utf-8', input='content',\n",
       "        lowercase=True, max_df=1.0, max_features=None, min_df=1,\n",
       "        ngram_range=(1, 1), preprocessor=None, stop_words=None,\n",
       "        strip...oob_score=False, random_state=None, verbose=0,\n",
       "            warm_start=False),\n",
       "           n_jobs=1))]),\n",
       "       fit_params=None, iid=True, n_jobs=1,\n",
       "       param_grid={'vect__min_df': [1, 5], 'tfidf__use_idf': [True, False], 'clf__estimator__n_estimators': [10, 25], 'clf__estimator__min_samples_split': [2, 5, 10]},\n",
       "       pre_dispatch='2*n_jobs', refit=True, return_train_score='warn',\n",
       "       scoring=None, verbose=3)"
      ]
     },
     "execution_count": 18,
     "metadata": {},
     "output_type": "execute_result"
    }
   ],
   "source": [
    "\n",
    "cv.fit(X_train,y_train)"
   ]
  },
  {
   "cell_type": "markdown",
   "metadata": {},
   "source": [
    "### 7. Test your model\n",
    "Show the accuracy, precision, and recall of the tuned model.  \n",
    "\n",
    "Since this project focuses on code quality, process, and  pipelines, there is no minimum performance metric needed to pass. However, make sure to fine tune your models for accuracy, precision and recall to make your project stand out - especially for your portfolio!"
   ]
  },
  {
   "cell_type": "code",
   "execution_count": 19,
   "metadata": {},
   "outputs": [],
   "source": [
    "y_prediction = cv.predict(X_train)\n"
   ]
  },
  {
   "cell_type": "code",
   "execution_count": 20,
   "metadata": {},
   "outputs": [
    {
     "name": "stdout",
     "output_type": "stream",
     "text": [
      "related\n",
      " F1_score: 0.9859 % Accuracy: 0.9860  % Precision: 0.9859 % Recall: 0.9860 \n",
      "request\n",
      " F1_score: 0.9846 % Accuracy: 0.9849  % Precision: 0.9851 % Recall: 0.9849 \n",
      "offer\n",
      " F1_score: 0.9963 % Accuracy: 0.9970  % Precision: 0.9970 % Recall: 0.9970 \n",
      "aid_related\n",
      " F1_score: 0.9893 % Accuracy: 0.9893  % Precision: 0.9893 % Recall: 0.9893 \n",
      "medical_help\n",
      " F1_score: 0.9829 % Accuracy: 0.9838  % Precision: 0.9840 % Recall: 0.9838 \n",
      "medical_products\n",
      " F1_score: 0.9879 % Accuracy: 0.9886  % Precision: 0.9887 % Recall: 0.9886 \n",
      "search_and_rescue\n",
      " F1_score: 0.9866 % Accuracy: 0.9881  % Precision: 0.9883 % Recall: 0.9881 \n",
      "security\n",
      " F1_score: 0.9875 % Accuracy: 0.9895  % Precision: 0.9896 % Recall: 0.9895 \n",
      "military\n",
      " F1_score: 0.9948 % Accuracy: 0.9950  % Precision: 0.9950 % Recall: 0.9950 \n",
      "child_alone\n",
      " F1_score: 1.0000 % Accuracy: 1.0000  % Precision: 1.0000 % Recall: 1.0000 \n",
      "water\n",
      " F1_score: 0.9950 % Accuracy: 0.9951  % Precision: 0.9951 % Recall: 0.9951 \n",
      "food\n",
      " F1_score: 0.9946 % Accuracy: 0.9946  % Precision: 0.9946 % Recall: 0.9946 \n",
      "shelter\n",
      " F1_score: 0.9921 % Accuracy: 0.9923  % Precision: 0.9923 % Recall: 0.9923 \n",
      "clothing\n",
      " F1_score: 0.9954 % Accuracy: 0.9957  % Precision: 0.9957 % Recall: 0.9957 \n",
      "money\n",
      " F1_score: 0.9927 % Accuracy: 0.9933  % Precision: 0.9933 % Recall: 0.9933 \n",
      "missing_people\n",
      " F1_score: 0.9934 % Accuracy: 0.9944  % Precision: 0.9944 % Recall: 0.9944 \n",
      "refugees\n",
      " F1_score: 0.9888 % Accuracy: 0.9897  % Precision: 0.9898 % Recall: 0.9897 \n",
      "death\n",
      " F1_score: 0.9924 % Accuracy: 0.9927  % Precision: 0.9928 % Recall: 0.9927 \n",
      "other_aid\n",
      " F1_score: 0.9778 % Accuracy: 0.9786  % Precision: 0.9791 % Recall: 0.9786 \n",
      "infrastructure_related\n",
      " F1_score: 0.9790 % Accuracy: 0.9806  % Precision: 0.9809 % Recall: 0.9806 \n",
      "transport\n",
      " F1_score: 0.9817 % Accuracy: 0.9835  % Precision: 0.9837 % Recall: 0.9835 \n",
      "buildings\n",
      " F1_score: 0.9912 % Accuracy: 0.9916  % Precision: 0.9916 % Recall: 0.9916 \n",
      "electricity\n",
      " F1_score: 0.9940 % Accuracy: 0.9944  % Precision: 0.9944 % Recall: 0.9944 \n",
      "tools\n",
      " F1_score: 0.9952 % Accuracy: 0.9961  % Precision: 0.9961 % Recall: 0.9961 \n",
      "hospitals\n",
      " F1_score: 0.9941 % Accuracy: 0.9949  % Precision: 0.9949 % Recall: 0.9949 \n",
      "shops\n",
      " F1_score: 0.9946 % Accuracy: 0.9960  % Precision: 0.9960 % Recall: 0.9960 \n",
      "aid_centers\n",
      " F1_score: 0.9920 % Accuracy: 0.9933  % Precision: 0.9933 % Recall: 0.9933 \n",
      "other_infrastructure\n",
      " F1_score: 0.9822 % Accuracy: 0.9840  % Precision: 0.9842 % Recall: 0.9840 \n",
      "weather_related\n",
      " F1_score: 0.9861 % Accuracy: 0.9862  % Precision: 0.9863 % Recall: 0.9862 \n",
      "floods\n",
      " F1_score: 0.9876 % Accuracy: 0.9880  % Precision: 0.9881 % Recall: 0.9880 \n",
      "storm\n",
      " F1_score: 0.9932 % Accuracy: 0.9933  % Precision: 0.9933 % Recall: 0.9933 \n",
      "fire\n",
      " F1_score: 0.9942 % Accuracy: 0.9950  % Precision: 0.9950 % Recall: 0.9950 \n",
      "earthquake\n",
      " F1_score: 0.9915 % Accuracy: 0.9916  % Precision: 0.9915 % Recall: 0.9916 \n",
      "cold\n",
      " F1_score: 0.9952 % Accuracy: 0.9954  % Precision: 0.9954 % Recall: 0.9954 \n",
      "other_weather\n",
      " F1_score: 0.9835 % Accuracy: 0.9847  % Precision: 0.9849 % Recall: 0.9847 \n",
      "direct_report\n",
      " F1_score: 0.9813 % Accuracy: 0.9816  % Precision: 0.9819 % Recall: 0.9816 \n"
     ]
    }
   ],
   "source": [
    "Classification_report(y_train, y_prediction,categories)"
   ]
  },
  {
   "cell_type": "markdown",
   "metadata": {},
   "source": [
    "### 8. Try improving your model further. Here are a few ideas:\n",
    "* try other machine learning algorithms\n",
    "* add other features besides the TF-IDF"
   ]
  },
  {
   "cell_type": "code",
   "execution_count": 27,
   "metadata": {},
   "outputs": [],
   "source": [
    " \n",
    "         \n",
    "pipeline2 = Pipeline([\n",
    "    ('vect', CountVectorizer(tokenizer=tokenize)),\n",
    "    ('tfidf', TfidfTransformer()),\n",
    "    ('clf', MultiOutputClassifier(\n",
    "    AdaBoostClassifier(base_estimator=DecisionTreeClassifier(max_depth=1, class_weight='balanced'))\n",
    "    ))\n",
    "])\n",
    "\n",
    "parameters = {\n",
    "    'clf__estimator__learning_rate': [1, 3],\n",
    "    'clf__estimator__n_estimators': [96, 150]\n",
    "}\n",
    "\n",
    "cv2 = GridSearchCV(estimator=pipeline2, param_grid=parameters, verbose=3)\n",
    "\n"
   ]
  },
  {
   "cell_type": "code",
   "execution_count": 28,
   "metadata": {},
   "outputs": [
    {
     "name": "stdout",
     "output_type": "stream",
     "text": [
      "Fitting 3 folds for each of 4 candidates, totalling 12 fits\n",
      "[CV] clf__estimator__learning_rate=1, clf__estimator__n_estimators=96 \n",
      "[CV]  clf__estimator__learning_rate=1, clf__estimator__n_estimators=96, score=0.11458651205370766, total= 3.4min\n",
      "[CV] clf__estimator__learning_rate=1, clf__estimator__n_estimators=96 \n"
     ]
    },
    {
     "name": "stderr",
     "output_type": "stream",
     "text": [
      "[Parallel(n_jobs=1)]: Done   1 out of   1 | elapsed:  4.3min remaining:    0.0s\n"
     ]
    },
    {
     "name": "stdout",
     "output_type": "stream",
     "text": [
      "[CV]  clf__estimator__learning_rate=1, clf__estimator__n_estimators=96, score=0.09902349710100702, total= 2.7min\n",
      "[CV] clf__estimator__learning_rate=1, clf__estimator__n_estimators=96 \n"
     ]
    },
    {
     "name": "stderr",
     "output_type": "stream",
     "text": [
      "[Parallel(n_jobs=1)]: Done   2 out of   2 | elapsed:  8.0min remaining:    0.0s\n"
     ]
    },
    {
     "name": "stdout",
     "output_type": "stream",
     "text": [
      "[CV]  clf__estimator__learning_rate=1, clf__estimator__n_estimators=96, score=0.10329569728410132, total= 2.7min\n",
      "[CV] clf__estimator__learning_rate=1, clf__estimator__n_estimators=150 \n",
      "[CV]  clf__estimator__learning_rate=1, clf__estimator__n_estimators=150, score=0.12709795544705524, total=48.0min\n",
      "[CV] clf__estimator__learning_rate=1, clf__estimator__n_estimators=150 \n",
      "[CV]  clf__estimator__learning_rate=1, clf__estimator__n_estimators=150, score=0.11306072627403113, total=46.1min\n",
      "[CV] clf__estimator__learning_rate=1, clf__estimator__n_estimators=150 \n",
      "[CV]  clf__estimator__learning_rate=1, clf__estimator__n_estimators=150, score=0.11428135489777236, total=114.7min\n",
      "[CV] clf__estimator__learning_rate=3, clf__estimator__n_estimators=96 \n",
      "[CV]  clf__estimator__learning_rate=3, clf__estimator__n_estimators=96, score=0.0, total= 2.0min\n",
      "[CV] clf__estimator__learning_rate=3, clf__estimator__n_estimators=96 \n",
      "[CV]  clf__estimator__learning_rate=3, clf__estimator__n_estimators=96, score=0.0, total= 2.0min\n",
      "[CV] clf__estimator__learning_rate=3, clf__estimator__n_estimators=96 \n",
      "[CV]  clf__estimator__learning_rate=3, clf__estimator__n_estimators=96, score=0.00015257857796765334, total= 2.0min\n",
      "[CV] clf__estimator__learning_rate=3, clf__estimator__n_estimators=150 \n",
      "[CV]  clf__estimator__learning_rate=3, clf__estimator__n_estimators=150, score=0.0, total= 2.4min\n",
      "[CV] clf__estimator__learning_rate=3, clf__estimator__n_estimators=150 \n",
      "[CV]  clf__estimator__learning_rate=3, clf__estimator__n_estimators=150, score=0.0, total= 2.4min\n",
      "[CV] clf__estimator__learning_rate=3, clf__estimator__n_estimators=150 \n",
      "[CV]  clf__estimator__learning_rate=3, clf__estimator__n_estimators=150, score=0.00015257857796765334, total= 2.4min\n"
     ]
    },
    {
     "name": "stderr",
     "output_type": "stream",
     "text": [
      "[Parallel(n_jobs=1)]: Done  12 out of  12 | elapsed: 248.8min finished\n"
     ]
    }
   ],
   "source": [
    "\n",
    "cv2.fit(X_train, y_train)\n",
    "\n",
    "y_prediction = cv2.predict(X_train)"
   ]
  },
  {
   "cell_type": "code",
   "execution_count": 29,
   "metadata": {},
   "outputs": [
    {
     "name": "stdout",
     "output_type": "stream",
     "text": [
      "related\n",
      " F1_score: 0.7016 % Accuracy: 0.6778  % Precision: 0.7898 % Recall: 0.6778 \n",
      "request\n",
      " F1_score: 0.8714 % Accuracy: 0.8630  % Precision: 0.8890 % Recall: 0.8630 \n",
      "offer\n",
      " F1_score: 0.9920 % Accuracy: 0.9892  % Precision: 0.9967 % Recall: 0.9892 \n",
      "aid_related\n",
      " F1_score: 0.7877 % Accuracy: 0.7882  % Precision: 0.7875 % Recall: 0.7882 \n",
      "medical_help\n",
      " F1_score: 0.8962 % Accuracy: 0.8774  % Precision: 0.9305 % Recall: 0.8774 \n",
      "medical_products\n",
      " F1_score: 0.9209 % Accuracy: 0.9007  % Precision: 0.9566 % Recall: 0.9007 \n",
      "search_and_rescue\n",
      " F1_score: 0.9275 % Accuracy: 0.8984  % Precision: 0.9727 % Recall: 0.8984 \n",
      "security\n",
      " F1_score: 0.9299 % Accuracy: 0.8940  % Precision: 0.9812 % Recall: 0.8940 \n",
      "military\n",
      " F1_score: 0.9627 % Accuracy: 0.9543  % Precision: 0.9788 % Recall: 0.9543 \n",
      "child_alone\n",
      " F1_score: 1.0000 % Accuracy: 1.0000  % Precision: 1.0000 % Recall: 1.0000 \n",
      "water\n",
      " F1_score: 0.9587 % Accuracy: 0.9539  % Precision: 0.9695 % Recall: 0.9539 \n",
      "food\n",
      " F1_score: 0.9494 % Accuracy: 0.9464  % Precision: 0.9561 % Recall: 0.9464 \n",
      "shelter\n",
      " F1_score: 0.9326 % Accuracy: 0.9253  % Precision: 0.9479 % Recall: 0.9253 \n",
      "clothing\n",
      " F1_score: 0.9845 % Accuracy: 0.9811  % Precision: 0.9912 % Recall: 0.9811 \n",
      "money\n",
      " F1_score: 0.9680 % Accuracy: 0.9590  % Precision: 0.9844 % Recall: 0.9590 \n",
      "missing_people\n",
      " F1_score: 0.9697 % Accuracy: 0.9557  % Precision: 0.9905 % Recall: 0.9557 \n",
      "refugees\n",
      " F1_score: 0.9387 % Accuracy: 0.9196  % Precision: 0.9708 % Recall: 0.9196 \n",
      "death\n",
      " F1_score: 0.9523 % Accuracy: 0.9435  % Precision: 0.9692 % Recall: 0.9435 \n",
      "other_aid\n",
      " F1_score: 0.8204 % Accuracy: 0.7953  % Precision: 0.8693 % Recall: 0.7953 \n",
      "infrastructure_related\n",
      " F1_score: 0.8635 % Accuracy: 0.8245  % Precision: 0.9316 % Recall: 0.8245 \n",
      "transport\n",
      " F1_score: 0.9092 % Accuracy: 0.8820  % Precision: 0.9538 % Recall: 0.8820 \n",
      "buildings\n",
      " F1_score: 0.9358 % Accuracy: 0.9227  % Precision: 0.9602 % Recall: 0.9227 \n",
      "electricity\n",
      " F1_score: 0.9729 % Accuracy: 0.9655  % Precision: 0.9863 % Recall: 0.9655 \n",
      "tools\n",
      " F1_score: 0.9882 % Accuracy: 0.9834  % Precision: 0.9957 % Recall: 0.9834 \n",
      "hospitals\n",
      " F1_score: 0.9761 % Accuracy: 0.9659  % Precision: 0.9918 % Recall: 0.9659 \n",
      "shops\n",
      " F1_score: 0.9892 % Accuracy: 0.9844  % Precision: 0.9963 % Recall: 0.9844 \n",
      "aid_centers\n",
      " F1_score: 0.9695 % Accuracy: 0.9557  % Precision: 0.9904 % Recall: 0.9557 \n",
      "other_infrastructure\n",
      " F1_score: 0.8941 % Accuracy: 0.8564  % Precision: 0.9562 % Recall: 0.8564 \n",
      "weather_related\n",
      " F1_score: 0.8842 % Accuracy: 0.8833  % Precision: 0.8855 % Recall: 0.8833 \n",
      "floods\n",
      " F1_score: 0.9336 % Accuracy: 0.9274  % Precision: 0.9449 % Recall: 0.9274 \n",
      "storm\n",
      " F1_score: 0.9439 % Accuracy: 0.9388  % Precision: 0.9553 % Recall: 0.9388 \n",
      "fire\n",
      " F1_score: 0.9818 % Accuracy: 0.9757  % Precision: 0.9922 % Recall: 0.9757 \n",
      "earthquake\n",
      " F1_score: 0.9699 % Accuracy: 0.9688  % Precision: 0.9721 % Recall: 0.9688 \n",
      "cold\n",
      " F1_score: 0.9722 % Accuracy: 0.9646  % Precision: 0.9859 % Recall: 0.9646 \n",
      "other_weather\n",
      " F1_score: 0.8957 % Accuracy: 0.8648  % Precision: 0.9486 % Recall: 0.8648 \n",
      "direct_report\n",
      " F1_score: 0.8214 % Accuracy: 0.8082  % Precision: 0.8506 % Recall: 0.8082 \n"
     ]
    }
   ],
   "source": [
    "Classification_report(y_train, y_prediction,categories)"
   ]
  },
  {
   "cell_type": "markdown",
   "metadata": {},
   "source": [
    "### 9. Export your model as a pickle file"
   ]
  },
  {
   "cell_type": "code",
   "execution_count": 30,
   "metadata": {},
   "outputs": [],
   "source": [
    "with open('mlmodel.pkl', 'wb') as file:\n",
    "    pickle.dump(cv2, file)"
   ]
  },
  {
   "cell_type": "code",
   "execution_count": 31,
   "metadata": {},
   "outputs": [],
   "source": [
    "with open('mlmodel_1.pkl', 'wb') as file:\n",
    "    pickle.dump(cv, file)"
   ]
  },
  {
   "cell_type": "markdown",
   "metadata": {},
   "source": [
    "### 10. Use this notebook to complete `train.py`\n",
    "Use the template file attached in the Resources folder to write a script that runs the steps above to create a database and export a model based on a new dataset specified by the user."
   ]
  },
  {
   "cell_type": "code",
   "execution_count": null,
   "metadata": {},
   "outputs": [],
   "source": []
  }
 ],
 "metadata": {
  "kernelspec": {
   "display_name": "Python 3",
   "language": "python",
   "name": "python3"
  },
  "language_info": {
   "codemirror_mode": {
    "name": "ipython",
    "version": 3
   },
   "file_extension": ".py",
   "mimetype": "text/x-python",
   "name": "python",
   "nbconvert_exporter": "python",
   "pygments_lexer": "ipython3",
   "version": "3.6.5"
  }
 },
 "nbformat": 4,
 "nbformat_minor": 2
}
